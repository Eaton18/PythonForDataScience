{
 "cells": [
  {
   "cell_type": "code",
   "execution_count": 2,
   "metadata": {},
   "outputs": [],
   "source": [
    "#-*- coding: utf-8 -*-\n",
    "#使用K-Means算法聚类消费行为特征数据\n",
    "\n",
    "import pandas as pd\n",
    "import matplotlib.pyplot as plt\n",
    "from sklearn.cluster import KMeans\n"
   ]
  },
  {
   "cell_type": "code",
   "execution_count": 3,
   "metadata": {},
   "outputs": [],
   "source": [
    "#参数初始化\n",
    "inputfile = '../../Datasets/consumption_data.csv'  #销量及其他属性数据\n",
    "outputfile = '../../Datasets/data_type.csv'  #保存结果的文件名\n",
    "k = 3  #聚类的类别\n",
    "iteration = 500  #聚类最大循环次数"
   ]
  },
  {
   "cell_type": "code",
   "execution_count": 4,
   "metadata": {},
   "outputs": [],
   "source": [
    "data = pd.read_csv(inputfile, index_col='Id')  #读取数据\n",
    "data_zs = 1.0 * (data - data.mean()) / data.std()  #数据标准化"
   ]
  },
  {
   "cell_type": "code",
   "execution_count": 5,
   "metadata": {},
   "outputs": [
    {
     "data": {
      "text/plain": [
       "KMeans(algorithm='auto', copy_x=True, init='k-means++', max_iter=500,\n",
       "    n_clusters=3, n_init=10, n_jobs=4, precompute_distances='auto',\n",
       "    random_state=None, tol=0.0001, verbose=0)"
      ]
     },
     "execution_count": 5,
     "metadata": {},
     "output_type": "execute_result"
    }
   ],
   "source": [
    "model = KMeans(n_clusters = k, n_jobs = 4, max_iter = iteration) #分为k类，并发数4\n",
    "model.fit(data_zs) #开始聚类"
   ]
  },
  {
   "cell_type": "code",
   "execution_count": 6,
   "metadata": {},
   "outputs": [
    {
     "name": "stdout",
     "output_type": "stream",
     "text": [
      "          R         F         M  ClassCount\n",
      "0 -0.162951  1.116722  0.395575         340\n",
      "1 -0.147855 -0.656892 -0.272251         560\n",
      "2  3.455055 -0.295654  0.449123          40\n"
     ]
    }
   ],
   "source": [
    "#简单打印结果\n",
    "r1 = pd.Series(model.labels_).value_counts()  #统计各个类别的数目\n",
    "r2 = pd.DataFrame(model.cluster_centers_)  #找出聚类中心\n",
    "r = pd.concat([r2, r1], axis=1)  #横向连接（0是纵向），得到聚类中心对应的类别下的数目\n",
    "r.columns = list(data.columns) + [u'ClassCount']  #重命名表头\n",
    "print(r)\n"
   ]
  },
  {
   "cell_type": "code",
   "execution_count": 7,
   "metadata": {},
   "outputs": [],
   "source": [
    "#详细输出原始数据及其类别\n",
    "r = pd.concat([data, pd.Series(model.labels_, index=data.index)], axis=1)  #详细输出每个样本对应的类别\n",
    "r.columns = list(data.columns) + [u'Class']  #重命名表头\n",
    "r.to_csv(outputfile)  #保存结果\n"
   ]
  },
  {
   "cell_type": "code",
   "execution_count": 11,
   "metadata": {},
   "outputs": [],
   "source": [
    "def density_plot(data):  # 自定义作图函数\n",
    "    plt.rcParams['font.sans-serif'] = ['SimHei']  # 用来正常显示中文标签\n",
    "    plt.rcParams['axes.unicode_minus'] = False  # 用来正常显示负号\n",
    "    p = data.plot(kind='kde', linewidth=2, subplots=True, sharex=False)\n",
    "    [p[i].set_ylabel(u'Density') for i in range(k)]\n",
    "    plt.legend()\n",
    "    return plt"
   ]
  },
  {
   "cell_type": "code",
   "execution_count": 12,
   "metadata": {},
   "outputs": [
    {
     "name": "stderr",
     "output_type": "stream",
     "text": [
      "/usr/local/lib/python3.5/dist-packages/matplotlib/font_manager.py:1320: UserWarning: findfont: Font family ['sans-serif'] not found. Falling back to DejaVu Sans\n",
      "  (prop.get_family(), self.defaultFamily[fontext]))\n"
     ]
    }
   ],
   "source": [
    "pic_output = '../../Datasets/pd_'  #概率密度图文件名前缀\n",
    "for i in range(k):\n",
    "    density_plot(data[r[u'Class'] == i]).savefig(u'%s%s.png' % (pic_output, i))"
   ]
  }
 ],
 "metadata": {
  "kernelspec": {
   "display_name": "Python 3",
   "language": "python",
   "name": "python3"
  },
  "language_info": {
   "codemirror_mode": {
    "name": "ipython",
    "version": 3
   },
   "file_extension": ".py",
   "mimetype": "text/x-python",
   "name": "python",
   "nbconvert_exporter": "python",
   "pygments_lexer": "ipython3",
   "version": "3.5.2"
  }
 },
 "nbformat": 4,
 "nbformat_minor": 1
}
