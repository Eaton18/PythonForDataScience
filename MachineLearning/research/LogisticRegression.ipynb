{
 "cells": [
  {
   "cell_type": "code",
   "execution_count": 45,
   "metadata": {
    "collapsed": true
   },
   "outputs": [],
   "source": [
    "#-*- coding: utf-8 -*-\n",
    "import pandas as pd\n",
    "import os\n",
    "from sklearn.linear_model import LogisticRegression as LR\n",
    "from sklearn.linear_model import RandomizedLogisticRegression as RLR"
   ]
  },
  {
   "cell_type": "code",
   "execution_count": 53,
   "metadata": {
    "collapsed": false
   },
   "outputs": [],
   "source": [
    "# init parameters\n",
    "# os.getcwd()\n",
    "filename = 'Datasets/bankloan.csv'\n",
    "data = pd.read_csv(filename)\n",
    "x = data.iloc[:,:8].as_matrix()   # regressors\n",
    "y = data.iloc[:,8].as_matrix()    # labels"
   ]
  },
  {
   "cell_type": "code",
   "execution_count": 54,
   "metadata": {},
   "outputs": [],
   "source": [
    "features_columns = data.columns[:len(data.columns)-1]"
   ]
  },
  {
   "cell_type": "code",
   "execution_count": 56,
   "metadata": {
    "collapsed": false
   },
   "outputs": [
    {
     "name": "stderr",
     "output_type": "stream",
     "text": [
      "C:\\Users\\yitgeng\\AppData\\Local\\Programs\\Python\\Python35\\lib\\site-packages\\sklearn\\utils\\deprecation.py:58: DeprecationWarning: Class RandomizedLogisticRegression is deprecated; The class RandomizedLogisticRegression is deprecated in 0.19 and will be removed in 0.21.\n  warnings.warn(msg, category=DeprecationWarning)\n"
     ]
    },
    {
     "name": "stdout",
     "output_type": "stream",
     "text": [
      "[False False  True  True False  True  True False]\n[ 0.115  0.075  0.99   0.455  0.     0.99   0.525  0.02 ]\n"
     ]
    }
   ],
   "source": [
    "rlr = RLR()  # create a randomized LogisticRegression, feature selection\n",
    "rlr.fit(x, y)  # training model\n",
    "# print(features_columns)\n",
    "print(rlr.get_support())  # get feature selection result.\n",
    "print(rlr.scores_)  # get each feature score"
   ]
  },
  {
   "cell_type": "code",
   "execution_count": 60,
   "metadata": {
    "collapsed": false
   },
   "outputs": [
    {
     "name": "stdout",
     "output_type": "stream",
     "text": [
      "RandomizedLogisticRegression feature selection finished.\nThe effective features are:\n\t length_of_service, address, debt_ratio, credit_card_debt\n"
     ]
    }
   ],
   "source": [
    "print(u'RandomizedLogisticRegression feature selection finished.')\n",
    "print(u'The effective features are:\\n\\t %s' % ', '.join(features_columns[rlr.get_support()]))"
   ]
  },
  {
   "cell_type": "code",
   "execution_count": 61,
   "metadata": {
    "collapsed": false
   },
   "outputs": [],
   "source": [
    "x = data[features_columns[rlr.get_support()]].as_matrix() # selected features"
   ]
  },
  {
   "cell_type": "code",
   "execution_count": 62,
   "metadata": {},
   "outputs": [
    {
     "name": "stdout",
     "output_type": "stream",
     "text": [
      "Accuracy：0.814285714286\n"
     ]
    }
   ],
   "source": [
    "lr = LR() # create logistic regression model\n",
    "lr.fit(x, y) # using effective features training model\n",
    "print(u'Accuracy：%s' % lr.score(x, y))"
   ]
  }
 ],
 "metadata": {
  "kernelspec": {
   "display_name": "Python 2",
   "language": "python",
   "name": "python2"
  },
  "language_info": {
   "codemirror_mode": {
    "name": "ipython",
    "version": 2.0
   },
   "file_extension": ".py",
   "mimetype": "text/x-python",
   "name": "python",
   "nbconvert_exporter": "python",
   "pygments_lexer": "ipython2",
   "version": "2.7.6"
  }
 },
 "nbformat": 4,
 "nbformat_minor": 0
}